{
 "cells": [
  {
   "cell_type": "markdown",
   "metadata": {},
   "source": [
    "### Unbiased Variance Estimation with Fixed Initial Elements and Conditional Normal Distribution\n",
    "\n",
    "This section presents the formula for calculating the unbiased variance estimate for an ARMA model, considering fixed initial elements and a conditional normal distribution.\n",
    "\n",
    "#### Notations:\n",
    "\n",
    "- $ p $ — the order of the AR model.\n",
    "- $ q $ — the order of the MA model.\n",
    "- $ \\max(p, q) $ — the number of initial elements that are fixed.\n",
    "- $ N $ — the total number of observations.\n",
    "- $ k = p + q $ — the total number of model parameters (AR and MA parameters).\n",
    "\n",
    "#### Variance Formula:\n",
    "\n",
    "$$\n",
    "\\hat{\\sigma}^2 = \\frac{1}{N - \\max(p, q) - k} \\sum_{t=\\max(p, q) + 1}^{N} \\epsilon_t^2\n",
    "$$\n"
   ]
  },
  {
   "cell_type": "code",
   "execution_count": 1,
   "metadata": {},
   "outputs": [
    {
     "name": "stdout",
     "output_type": "stream",
     "text": [
      "Predicted values: [23.8518518518518 41.1165980795610 70.5128283290149]\n"
     ]
    }
   ],
   "source": [
    "import numpy as np\n",
    "import sympy as sp\n",
    "\n",
    "class AnalyticalAR:\n",
    "    def __init__(self, order):\n",
    "        self.order = order  # The order of the AR model (AR(p))\n",
    "        self.phi = sp.symbols(f'phi1:{self.order + 1}')  # Creating symbolic variables for AR model parameters\n",
    "        self.sigma2 = sp.symbols('sigma2')  # Noise variance\n",
    "\n",
    "    def fit(self, y):\n",
    "        \"\"\"\n",
    "        Method to analytically fit the AR model parameters using the log-likelihood function.\n",
    "\n",
    "        Parameters:\n",
    "        y : numpy array\n",
    "            Time series data.\n",
    "        \"\"\"\n",
    "        N = len(y)\n",
    "\n",
    "        # Creating a symbolic array for y\n",
    "        y_sym = sp.IndexedBase('y')\n",
    "        i = sp.symbols('i')\n",
    "\n",
    "        # Defining the expression for the noise variance sigma^2\n",
    "        residual = y_sym[i] - sum(self.phi[j] * y_sym[i-j-1] for j in range(self.order))\n",
    "        sigma2 = (1 / (N - 2 * self.order)) * sp.Sum(residual**2, (i, self.order + 1, N)).doit()\n",
    "\n",
    "        # Creating the log-likelihood expression\n",
    "        log_likelihood = -(N - self.order)/2 * sp.log(2 * np.pi * sigma2)\n",
    "\n",
    "        # Differentiating the log-likelihood with respect to each phi parameter\n",
    "        diff_log_likelihood = [sp.diff(log_likelihood, self.phi[j]) for j in range(self.order)]\n",
    "\n",
    "        # Solving the equations to find the optimal phi values\n",
    "        phi_solutions = sp.solve(diff_log_likelihood, self.phi)\n",
    "\n",
    "        # Substituting the actual values of y into the phi solutions\n",
    "        y_values = {y_sym[i]: y[i-1] for i in range(1, N+1)}\n",
    "        self.phi_values = {self.phi[j]: phi_solutions[self.phi[j]].subs(y_values) for j in range(self.order)}\n",
    "\n",
    "    def predict(self, y, steps=1):\n",
    "        \"\"\"\n",
    "        Method to predict future values of the time series.\n",
    "\n",
    "        Parameters:\n",
    "        y : numpy array\n",
    "            Time series data.\n",
    "        steps : int\n",
    "            Number of steps to predict.\n",
    "\n",
    "        Returns:\n",
    "        predictions : numpy array\n",
    "            Predicted values.\n",
    "        \"\"\"\n",
    "        predictions = []\n",
    "        for _ in range(steps):\n",
    "            pred = sum(self.phi_values[self.phi[j]] * y[-j-1] for j in range(self.order))\n",
    "            predictions.append(pred)\n",
    "            y = np.append(y, pred)\n",
    "\n",
    "        return np.array(predictions)\n",
    "\n",
    "# Example usage of the class\n",
    "y = np.array([1, 2, 2, 5, 8, 14])  # The time series\n",
    "\n",
    "# Creating and fitting an AR(p) model\n",
    "ar_model = AnalyticalAR(order=2)\n",
    "ar_model.fit(y)\n",
    "\n",
    "# Predicting the next 3 steps\n",
    "predictions = ar_model.predict(y, steps=3)\n",
    "print(\"Predicted values:\", predictions)"
   ]
  }
 ],
 "metadata": {
  "kernelspec": {
   "display_name": "Python 3",
   "language": "python",
   "name": "python3"
  },
  "language_info": {
   "codemirror_mode": {
    "name": "ipython",
    "version": 3
   },
   "file_extension": ".py",
   "mimetype": "text/x-python",
   "name": "python",
   "nbconvert_exporter": "python",
   "pygments_lexer": "ipython3",
   "version": "3.9.6"
  }
 },
 "nbformat": 4,
 "nbformat_minor": 2
}
